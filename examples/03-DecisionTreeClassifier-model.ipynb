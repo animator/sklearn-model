{
 "cells": [
  {
   "cell_type": "code",
   "execution_count": 2,
   "metadata": {
    "ExecuteTime": {
     "end_time": "2021-04-19T06:05:20.369737Z",
     "start_time": "2021-04-19T06:05:20.366543Z"
    }
   },
   "outputs": [],
   "source": [
    "import pandas as pd\n",
    "from sklearn.tree import DecisionTreeClassifier\n",
    "from sklearn.model_selection import train_test_split\n",
    "\n",
    "from sklearn_model.export import Model"
   ]
  },
  {
   "cell_type": "code",
   "execution_count": 3,
   "metadata": {
    "ExecuteTime": {
     "end_time": "2021-04-19T06:05:20.945386Z",
     "start_time": "2021-04-19T06:05:20.914615Z"
    }
   },
   "outputs": [
    {
     "data": {
      "text/html": [
       "<div>\n",
       "<style scoped>\n",
       "    .dataframe tbody tr th:only-of-type {\n",
       "        vertical-align: middle;\n",
       "    }\n",
       "\n",
       "    .dataframe tbody tr th {\n",
       "        vertical-align: top;\n",
       "    }\n",
       "\n",
       "    .dataframe thead th {\n",
       "        text-align: right;\n",
       "    }\n",
       "</style>\n",
       "<table border=\"1\" class=\"dataframe\">\n",
       "  <thead>\n",
       "    <tr style=\"text-align: right;\">\n",
       "      <th></th>\n",
       "      <th>Gender</th>\n",
       "      <th>Married</th>\n",
       "      <th>Dependents</th>\n",
       "      <th>Education</th>\n",
       "      <th>Self Employed</th>\n",
       "      <th>Applicant Income</th>\n",
       "      <th>Loan Amount</th>\n",
       "      <th>Loan Term</th>\n",
       "      <th>Property Area</th>\n",
       "      <th>Approved</th>\n",
       "    </tr>\n",
       "  </thead>\n",
       "  <tbody>\n",
       "    <tr>\n",
       "      <th>0</th>\n",
       "      <td>Male</td>\n",
       "      <td>Yes</td>\n",
       "      <td>1</td>\n",
       "      <td>Graduate</td>\n",
       "      <td>No</td>\n",
       "      <td>6091.0</td>\n",
       "      <td>128000</td>\n",
       "      <td>360</td>\n",
       "      <td>Rural</td>\n",
       "      <td>N</td>\n",
       "    </tr>\n",
       "    <tr>\n",
       "      <th>1</th>\n",
       "      <td>Male</td>\n",
       "      <td>Yes</td>\n",
       "      <td>0</td>\n",
       "      <td>Graduate</td>\n",
       "      <td>Yes</td>\n",
       "      <td>3000.0</td>\n",
       "      <td>66000</td>\n",
       "      <td>360</td>\n",
       "      <td>Urban</td>\n",
       "      <td>Y</td>\n",
       "    </tr>\n",
       "    <tr>\n",
       "      <th>2</th>\n",
       "      <td>Male</td>\n",
       "      <td>Yes</td>\n",
       "      <td>0</td>\n",
       "      <td>Not Graduate</td>\n",
       "      <td>No</td>\n",
       "      <td>4941.0</td>\n",
       "      <td>120000</td>\n",
       "      <td>360</td>\n",
       "      <td>Urban</td>\n",
       "      <td>Y</td>\n",
       "    </tr>\n",
       "    <tr>\n",
       "      <th>3</th>\n",
       "      <td>Male</td>\n",
       "      <td>No</td>\n",
       "      <td>0</td>\n",
       "      <td>Graduate</td>\n",
       "      <td>No</td>\n",
       "      <td>6000.0</td>\n",
       "      <td>141000</td>\n",
       "      <td>360</td>\n",
       "      <td>Urban</td>\n",
       "      <td>Y</td>\n",
       "    </tr>\n",
       "    <tr>\n",
       "      <th>4</th>\n",
       "      <td>Male</td>\n",
       "      <td>Yes</td>\n",
       "      <td>2</td>\n",
       "      <td>Graduate</td>\n",
       "      <td>Yes</td>\n",
       "      <td>9613.0</td>\n",
       "      <td>267000</td>\n",
       "      <td>360</td>\n",
       "      <td>Urban</td>\n",
       "      <td>Y</td>\n",
       "    </tr>\n",
       "    <tr>\n",
       "      <th>...</th>\n",
       "      <td>...</td>\n",
       "      <td>...</td>\n",
       "      <td>...</td>\n",
       "      <td>...</td>\n",
       "      <td>...</td>\n",
       "      <td>...</td>\n",
       "      <td>...</td>\n",
       "      <td>...</td>\n",
       "      <td>...</td>\n",
       "      <td>...</td>\n",
       "    </tr>\n",
       "    <tr>\n",
       "      <th>571</th>\n",
       "      <td>Female</td>\n",
       "      <td>No</td>\n",
       "      <td>0</td>\n",
       "      <td>Graduate</td>\n",
       "      <td>No</td>\n",
       "      <td>2900.0</td>\n",
       "      <td>71000</td>\n",
       "      <td>360</td>\n",
       "      <td>Rural</td>\n",
       "      <td>Y</td>\n",
       "    </tr>\n",
       "    <tr>\n",
       "      <th>572</th>\n",
       "      <td>Male</td>\n",
       "      <td>Yes</td>\n",
       "      <td>3</td>\n",
       "      <td>Graduate</td>\n",
       "      <td>No</td>\n",
       "      <td>4106.0</td>\n",
       "      <td>40000</td>\n",
       "      <td>180</td>\n",
       "      <td>Rural</td>\n",
       "      <td>Y</td>\n",
       "    </tr>\n",
       "    <tr>\n",
       "      <th>573</th>\n",
       "      <td>Male</td>\n",
       "      <td>Yes</td>\n",
       "      <td>1</td>\n",
       "      <td>Graduate</td>\n",
       "      <td>No</td>\n",
       "      <td>8312.0</td>\n",
       "      <td>253000</td>\n",
       "      <td>360</td>\n",
       "      <td>Urban</td>\n",
       "      <td>Y</td>\n",
       "    </tr>\n",
       "    <tr>\n",
       "      <th>574</th>\n",
       "      <td>Male</td>\n",
       "      <td>Yes</td>\n",
       "      <td>2</td>\n",
       "      <td>Graduate</td>\n",
       "      <td>No</td>\n",
       "      <td>7583.0</td>\n",
       "      <td>187000</td>\n",
       "      <td>360</td>\n",
       "      <td>Urban</td>\n",
       "      <td>Y</td>\n",
       "    </tr>\n",
       "    <tr>\n",
       "      <th>575</th>\n",
       "      <td>Female</td>\n",
       "      <td>No</td>\n",
       "      <td>0</td>\n",
       "      <td>Graduate</td>\n",
       "      <td>Yes</td>\n",
       "      <td>4583.0</td>\n",
       "      <td>133000</td>\n",
       "      <td>360</td>\n",
       "      <td>Semiurban</td>\n",
       "      <td>N</td>\n",
       "    </tr>\n",
       "  </tbody>\n",
       "</table>\n",
       "<p>576 rows × 10 columns</p>\n",
       "</div>"
      ],
      "text/plain": [
       "     Gender Married  Dependents     Education Self Employed  Applicant Income  \\\n",
       "0      Male     Yes           1      Graduate            No            6091.0   \n",
       "1      Male     Yes           0      Graduate           Yes            3000.0   \n",
       "2      Male     Yes           0  Not Graduate            No            4941.0   \n",
       "3      Male      No           0      Graduate            No            6000.0   \n",
       "4      Male     Yes           2      Graduate           Yes            9613.0   \n",
       "..      ...     ...         ...           ...           ...               ...   \n",
       "571  Female      No           0      Graduate            No            2900.0   \n",
       "572    Male     Yes           3      Graduate            No            4106.0   \n",
       "573    Male     Yes           1      Graduate            No            8312.0   \n",
       "574    Male     Yes           2      Graduate            No            7583.0   \n",
       "575  Female      No           0      Graduate           Yes            4583.0   \n",
       "\n",
       "     Loan Amount  Loan Term Property Area Approved  \n",
       "0         128000        360         Rural        N  \n",
       "1          66000        360         Urban        Y  \n",
       "2         120000        360         Urban        Y  \n",
       "3         141000        360         Urban        Y  \n",
       "4         267000        360         Urban        Y  \n",
       "..           ...        ...           ...      ...  \n",
       "571        71000        360         Rural        Y  \n",
       "572        40000        180         Rural        Y  \n",
       "573       253000        360         Urban        Y  \n",
       "574       187000        360         Urban        Y  \n",
       "575       133000        360     Semiurban        N  \n",
       "\n",
       "[576 rows x 10 columns]"
      ]
     },
     "execution_count": 3,
     "metadata": {},
     "output_type": "execute_result"
    }
   ],
   "source": [
    "df = pd.read_csv(\"assets/loan.csv\")\n",
    "df"
   ]
  },
  {
   "cell_type": "code",
   "execution_count": 4,
   "metadata": {
    "ExecuteTime": {
     "end_time": "2021-04-19T06:05:21.334750Z",
     "start_time": "2021-04-19T06:05:21.329912Z"
    }
   },
   "outputs": [
    {
     "data": {
      "text/plain": [
       "Gender               object\n",
       "Married              object\n",
       "Dependents            int64\n",
       "Education            object\n",
       "Self Employed        object\n",
       "Applicant Income    float64\n",
       "Loan Amount           int64\n",
       "Loan Term             int64\n",
       "Property Area        object\n",
       "Approved             object\n",
       "dtype: object"
      ]
     },
     "execution_count": 4,
     "metadata": {},
     "output_type": "execute_result"
    }
   ],
   "source": [
    "df.dtypes"
   ]
  },
  {
   "cell_type": "code",
   "execution_count": 5,
   "metadata": {
    "ExecuteTime": {
     "end_time": "2021-04-19T06:05:21.793487Z",
     "start_time": "2021-04-19T06:05:21.781006Z"
    }
   },
   "outputs": [
    {
     "data": {
      "text/plain": [
       "Gender              category\n",
       "Married             category\n",
       "Dependents             int64\n",
       "Education           category\n",
       "Self Employed       category\n",
       "Applicant Income     float64\n",
       "Loan Amount            int64\n",
       "Loan Term              int64\n",
       "Property Area       category\n",
       "Approved            category\n",
       "dtype: object"
      ]
     },
     "execution_count": 5,
     "metadata": {},
     "output_type": "execute_result"
    }
   ],
   "source": [
    "# Convert object fields to categorical fields\n",
    "df['Gender'] = df['Gender'].astype('category')\n",
    "df['Married'] = df['Married'].astype('category')\n",
    "df['Education'] = df['Education'].astype('category')\n",
    "df['Self Employed'] = df['Self Employed'].astype('category')\n",
    "df['Property Area'] = df['Property Area'].astype('category')\n",
    "df['Approved'] = df['Approved'].astype('category')\n",
    "df.dtypes"
   ]
  },
  {
   "cell_type": "code",
   "execution_count": 6,
   "metadata": {
    "ExecuteTime": {
     "end_time": "2021-04-19T06:05:22.224346Z",
     "start_time": "2021-04-19T06:05:22.213946Z"
    }
   },
   "outputs": [
    {
     "name": "stdout",
     "output_type": "stream",
     "text": [
      "['Female', 'Male']\n",
      "['No', 'Yes']\n",
      "['Graduate', 'Not Graduate']\n",
      "['No', 'Yes']\n",
      "['Rural', 'Semiurban', 'Urban']\n",
      "['N', 'Y']\n"
     ]
    }
   ],
   "source": [
    "# Check the values of categorical columns\n",
    "cat_columns = df.select_dtypes(['category']).columns\n",
    "for col in cat_columns:\n",
    "    print(df.dtypes[col].categories.tolist())"
   ]
  },
  {
   "cell_type": "code",
   "execution_count": 7,
   "metadata": {
    "ExecuteTime": {
     "end_time": "2021-04-19T06:05:22.605434Z",
     "start_time": "2021-04-19T06:05:22.601164Z"
    }
   },
   "outputs": [],
   "source": [
    "# dfX and dfY is created to keep the field details of original dataset intact\n",
    "dfX = df.drop(\"Approved\", axis = 1)\n",
    "dfY = df[[\"Approved\"]]"
   ]
  },
  {
   "cell_type": "code",
   "execution_count": 8,
   "metadata": {
    "ExecuteTime": {
     "end_time": "2021-04-19T06:05:22.927427Z",
     "start_time": "2021-04-19T06:05:22.909391Z"
    }
   },
   "outputs": [
    {
     "data": {
      "text/html": [
       "<div>\n",
       "<style scoped>\n",
       "    .dataframe tbody tr th:only-of-type {\n",
       "        vertical-align: middle;\n",
       "    }\n",
       "\n",
       "    .dataframe tbody tr th {\n",
       "        vertical-align: top;\n",
       "    }\n",
       "\n",
       "    .dataframe thead th {\n",
       "        text-align: right;\n",
       "    }\n",
       "</style>\n",
       "<table border=\"1\" class=\"dataframe\">\n",
       "  <thead>\n",
       "    <tr style=\"text-align: right;\">\n",
       "      <th></th>\n",
       "      <th>Gender</th>\n",
       "      <th>Married</th>\n",
       "      <th>Dependents</th>\n",
       "      <th>Education</th>\n",
       "      <th>Self Employed</th>\n",
       "      <th>Applicant Income</th>\n",
       "      <th>Loan Amount</th>\n",
       "      <th>Loan Term</th>\n",
       "      <th>Property Area</th>\n",
       "      <th>Approved</th>\n",
       "    </tr>\n",
       "  </thead>\n",
       "  <tbody>\n",
       "    <tr>\n",
       "      <th>0</th>\n",
       "      <td>1</td>\n",
       "      <td>1</td>\n",
       "      <td>1</td>\n",
       "      <td>0</td>\n",
       "      <td>0</td>\n",
       "      <td>6091.0</td>\n",
       "      <td>128000</td>\n",
       "      <td>360</td>\n",
       "      <td>0</td>\n",
       "      <td>0</td>\n",
       "    </tr>\n",
       "    <tr>\n",
       "      <th>1</th>\n",
       "      <td>1</td>\n",
       "      <td>1</td>\n",
       "      <td>0</td>\n",
       "      <td>0</td>\n",
       "      <td>1</td>\n",
       "      <td>3000.0</td>\n",
       "      <td>66000</td>\n",
       "      <td>360</td>\n",
       "      <td>2</td>\n",
       "      <td>1</td>\n",
       "    </tr>\n",
       "    <tr>\n",
       "      <th>2</th>\n",
       "      <td>1</td>\n",
       "      <td>1</td>\n",
       "      <td>0</td>\n",
       "      <td>1</td>\n",
       "      <td>0</td>\n",
       "      <td>4941.0</td>\n",
       "      <td>120000</td>\n",
       "      <td>360</td>\n",
       "      <td>2</td>\n",
       "      <td>1</td>\n",
       "    </tr>\n",
       "    <tr>\n",
       "      <th>3</th>\n",
       "      <td>1</td>\n",
       "      <td>0</td>\n",
       "      <td>0</td>\n",
       "      <td>0</td>\n",
       "      <td>0</td>\n",
       "      <td>6000.0</td>\n",
       "      <td>141000</td>\n",
       "      <td>360</td>\n",
       "      <td>2</td>\n",
       "      <td>1</td>\n",
       "    </tr>\n",
       "    <tr>\n",
       "      <th>4</th>\n",
       "      <td>1</td>\n",
       "      <td>1</td>\n",
       "      <td>2</td>\n",
       "      <td>0</td>\n",
       "      <td>1</td>\n",
       "      <td>9613.0</td>\n",
       "      <td>267000</td>\n",
       "      <td>360</td>\n",
       "      <td>2</td>\n",
       "      <td>1</td>\n",
       "    </tr>\n",
       "  </tbody>\n",
       "</table>\n",
       "</div>"
      ],
      "text/plain": [
       "   Gender  Married  Dependents  Education  Self Employed  Applicant Income  \\\n",
       "0       1        1           1          0              0            6091.0   \n",
       "1       1        1           0          0              1            3000.0   \n",
       "2       1        1           0          1              0            4941.0   \n",
       "3       1        0           0          0              0            6000.0   \n",
       "4       1        1           2          0              1            9613.0   \n",
       "\n",
       "   Loan Amount  Loan Term  Property Area  Approved  \n",
       "0       128000        360              0         0  \n",
       "1        66000        360              2         1  \n",
       "2       120000        360              2         1  \n",
       "3       141000        360              2         1  \n",
       "4       267000        360              2         1  "
      ]
     },
     "execution_count": 8,
     "metadata": {},
     "output_type": "execute_result"
    }
   ],
   "source": [
    "# Convert Categorical to Integers\n",
    "df_xy = df.copy()\n",
    "df_xy[cat_columns] = df_xy[cat_columns].apply(lambda x: x.cat.codes)\n",
    "df_xy.head()"
   ]
  },
  {
   "cell_type": "code",
   "execution_count": 9,
   "metadata": {
    "ExecuteTime": {
     "end_time": "2021-04-19T06:05:23.381131Z",
     "start_time": "2021-04-19T06:05:23.376871Z"
    }
   },
   "outputs": [],
   "source": [
    "X, y = df_xy.drop(\"Approved\", axis = 1).values, df_xy[\"Approved\"].values"
   ]
  },
  {
   "cell_type": "code",
   "execution_count": 10,
   "metadata": {
    "ExecuteTime": {
     "end_time": "2021-04-19T06:05:23.828541Z",
     "start_time": "2021-04-19T06:05:23.825234Z"
    }
   },
   "outputs": [],
   "source": [
    "X_train, X_test, y_train, y_test = train_test_split(X,\n",
    "                                                   y,\n",
    "                                                   test_size = 0.15,\n",
    "                                                   random_state = 3)"
   ]
  },
  {
   "cell_type": "code",
   "execution_count": 11,
   "metadata": {
    "ExecuteTime": {
     "end_time": "2021-04-19T06:05:24.184488Z",
     "start_time": "2021-04-19T06:05:24.182083Z"
    }
   },
   "outputs": [],
   "source": [
    "# Model\n",
    "dtree = DecisionTreeClassifier(max_depth = 4)"
   ]
  },
  {
   "cell_type": "code",
   "execution_count": 12,
   "metadata": {
    "ExecuteTime": {
     "end_time": "2021-04-19T06:05:24.450914Z",
     "start_time": "2021-04-19T06:05:24.445359Z"
    }
   },
   "outputs": [
    {
     "data": {
      "text/plain": [
       "0.7011494252873562"
      ]
     },
     "execution_count": 12,
     "metadata": {},
     "output_type": "execute_result"
    }
   ],
   "source": [
    "y_pred = dtree.fit(X_train, y_train.ravel()).predict(X_test)\n",
    "1 - sum((y_test.ravel()- y_pred)**2)/len(y_pred)"
   ]
  },
  {
   "cell_type": "code",
   "execution_count": 13,
   "metadata": {
    "ExecuteTime": {
     "end_time": "2021-04-19T06:05:24.636241Z",
     "start_time": "2021-04-19T06:05:24.629582Z"
    }
   },
   "outputs": [],
   "source": [
    "# Get the probabibity of class 0 in the leaf and assign a final class to that leaf based on\n",
    "# cutoff value\n",
    "prob_A = pd.DataFrame({\"leaf\": dtree.apply(X_train), \n",
    "                       \"actualY\": y_train}).groupby(['leaf']).mean().to_dict()[\"actualY\"]\n",
    "cutoff = 0.5\n",
    "leaf_class = { leaf : 0 if prob < cutoff else 1 for leaf, prob in prob_A.items()}"
   ]
  },
  {
   "cell_type": "code",
   "execution_count": 14,
   "metadata": {
    "ExecuteTime": {
     "end_time": "2021-04-19T06:05:25.281202Z",
     "start_time": "2021-04-19T06:05:25.278263Z"
    }
   },
   "outputs": [],
   "source": [
    "mdl = Model()\n",
    "mdl.add_fields(dfX, dfY)\n",
    "mdl.add_leaf_class(leaf_class)\n",
    "mdl.add_model(dtree)"
   ]
  },
  {
   "cell_type": "code",
   "execution_count": 15,
   "metadata": {
    "ExecuteTime": {
     "end_time": "2021-04-19T06:05:27.001531Z",
     "start_time": "2021-04-19T06:05:26.990156Z"
    }
   },
   "outputs": [
    {
     "name": "stdout",
     "output_type": "stream",
     "text": [
      "{\n",
      "    \"input\": {\n",
      "        \"Gender\": {\n",
      "            \"type\": \"category\",\n",
      "            \"values\": [\n",
      "                \"Female\",\n",
      "                \"Male\"\n",
      "            ]\n",
      "        },\n",
      "        \"Married\": {\n",
      "            \"type\": \"category\",\n",
      "            \"values\": [\n",
      "                \"No\",\n",
      "                \"Yes\"\n",
      "            ]\n",
      "        },\n",
      "        \"Dependents\": {\n",
      "            \"type\": \"int\"\n",
      "        },\n",
      "        \"Education\": {\n",
      "            \"type\": \"category\",\n",
      "            \"values\": [\n",
      "                \"Graduate\",\n",
      "                \"Not Graduate\"\n",
      "            ]\n",
      "        },\n",
      "        \"Self Employed\": {\n",
      "            \"type\": \"category\",\n",
      "            \"values\": [\n",
      "                \"No\",\n",
      "                \"Yes\"\n",
      "            ]\n",
      "        },\n",
      "        \"Applicant Income\": {\n",
      "            \"type\": \"float\"\n",
      "        },\n",
      "        \"Loan Amount\": {\n",
      "            \"type\": \"int\"\n",
      "        },\n",
      "        \"Loan Term\": {\n",
      "            \"type\": \"int\"\n",
      "        },\n",
      "        \"Property Area\": {\n",
      "            \"type\": \"category\",\n",
      "            \"values\": [\n",
      "                \"Rural\",\n",
      "                \"Semiurban\",\n",
      "                \"Urban\"\n",
      "            ]\n",
      "        }\n",
      "    },\n",
      "    \"output\": {\n",
      "        \"Approved\": {\n",
      "            \"type\": \"category\",\n",
      "            \"values\": [\n",
      "                \"N\",\n",
      "                \"Y\"\n",
      "            ]\n",
      "        }\n",
      "    },\n",
      "    \"model\": {\n",
      "        \"type\": \"DecisionTreeClassifier\",\n",
      "        \"scoring_params\": {\n",
      "            \"tree\": {\n",
      "                \"isleaf\": false,\n",
      "                \"field\": \"Applicant Income\",\n",
      "                \"split_value\": 2381.5,\n",
      "                \"l\": {\n",
      "                    \"isleaf\": false,\n",
      "                    \"field\": \"Education\",\n",
      "                    \"split_value\": 0.5,\n",
      "                    \"l\": {\n",
      "                        \"isleaf\": true,\n",
      "                        \"class\": 0\n",
      "                    },\n",
      "                    \"r\": {\n",
      "                        \"isleaf\": false,\n",
      "                        \"field\": \"Gender\",\n",
      "                        \"split_value\": 0.5,\n",
      "                        \"l\": {\n",
      "                            \"isleaf\": true,\n",
      "                            \"class\": 1\n",
      "                        },\n",
      "                        \"r\": {\n",
      "                            \"isleaf\": true,\n",
      "                            \"class\": 0\n",
      "                        }\n",
      "                    }\n",
      "                },\n",
      "                \"r\": {\n",
      "                    \"isleaf\": false,\n",
      "                    \"field\": \"Applicant Income\",\n",
      "                    \"split_value\": 20199.5,\n",
      "                    \"l\": {\n",
      "                        \"isleaf\": false,\n",
      "                        \"field\": \"Loan Term\",\n",
      "                        \"split_value\": 420.0,\n",
      "                        \"l\": {\n",
      "                            \"isleaf\": false,\n",
      "                            \"field\": \"Loan Amount\",\n",
      "                            \"split_value\": 61000.0,\n",
      "                            \"l\": {\n",
      "                                \"isleaf\": true,\n",
      "                                \"class\": 1\n",
      "                            },\n",
      "                            \"r\": {\n",
      "                                \"isleaf\": true,\n",
      "                                \"class\": 1\n",
      "                            }\n",
      "                        },\n",
      "                        \"r\": {\n",
      "                            \"isleaf\": false,\n",
      "                            \"field\": \"Dependents\",\n",
      "                            \"split_value\": 0.5,\n",
      "                            \"l\": {\n",
      "                                \"isleaf\": true,\n",
      "                                \"class\": 0\n",
      "                            },\n",
      "                            \"r\": {\n",
      "                                \"isleaf\": true,\n",
      "                                \"class\": 1\n",
      "                            }\n",
      "                        }\n",
      "                    },\n",
      "                    \"r\": {\n",
      "                        \"isleaf\": false,\n",
      "                        \"field\": \"Loan Amount\",\n",
      "                        \"split_value\": 585000.0,\n",
      "                        \"l\": {\n",
      "                            \"isleaf\": false,\n",
      "                            \"field\": \"Loan Amount\",\n",
      "                            \"split_value\": 195500.0,\n",
      "                            \"l\": {\n",
      "                                \"isleaf\": true,\n",
      "                                \"class\": 1\n",
      "                            },\n",
      "                            \"r\": {\n",
      "                                \"isleaf\": true,\n",
      "                                \"class\": 0\n",
      "                            }\n",
      "                        },\n",
      "                        \"r\": {\n",
      "                            \"isleaf\": true,\n",
      "                            \"class\": 1\n",
      "                        }\n",
      "                    }\n",
      "                }\n",
      "            }\n",
      "        }\n",
      "    }\n",
      "}\n"
     ]
    }
   ],
   "source": [
    "print(mdl.exportJSON())"
   ]
  },
  {
   "cell_type": "code",
   "execution_count": 15,
   "metadata": {
    "ExecuteTime": {
     "end_time": "2021-04-19T03:41:50.017074Z",
     "start_time": "2021-04-19T03:41:50.007304Z"
    }
   },
   "outputs": [],
   "source": [
    "mdl.exportJSON('tree.json')"
   ]
  },
  {
   "cell_type": "markdown",
   "metadata": {},
   "source": [
    "### Extracting Decision Tree Rules"
   ]
  },
  {
   "cell_type": "code",
   "execution_count": 16,
   "metadata": {
    "ExecuteTime": {
     "end_time": "2021-04-19T06:05:34.715127Z",
     "start_time": "2021-04-19T06:05:34.712693Z"
    }
   },
   "outputs": [],
   "source": [
    "from sklearn_model.utils import JMLM"
   ]
  },
  {
   "cell_type": "markdown",
   "metadata": {},
   "source": [
    "#### 1. From Model"
   ]
  },
  {
   "cell_type": "code",
   "execution_count": 17,
   "metadata": {
    "ExecuteTime": {
     "end_time": "2021-04-19T06:05:39.545035Z",
     "start_time": "2021-04-19T06:05:39.532622Z"
    }
   },
   "outputs": [
    {
     "data": {
      "text/plain": [
       "[{'class': 0, 'rule': '(Applicant Income <= 2381.5) and (Education <= 0.5)'},\n",
       " {'class': 1,\n",
       "  'rule': '(Applicant Income <= 2381.5) and (Education > 0.5) and (Gender <= 0.5)'},\n",
       " {'class': 0,\n",
       "  'rule': '(Applicant Income <= 2381.5) and (Education > 0.5) and (Gender > 0.5)'},\n",
       " {'class': 1,\n",
       "  'rule': '(Applicant Income > 2381.5) and (Applicant Income <= 20199.5) and (Loan Term <= 420.0) and (Loan Amount <= 61000.0)'},\n",
       " {'class': 1,\n",
       "  'rule': '(Applicant Income > 2381.5) and (Applicant Income <= 20199.5) and (Loan Term <= 420.0) and (Loan Amount > 61000.0)'},\n",
       " {'class': 0,\n",
       "  'rule': '(Applicant Income > 2381.5) and (Applicant Income <= 20199.5) and (Loan Term > 420.0) and (Dependents <= 0.5)'},\n",
       " {'class': 1,\n",
       "  'rule': '(Applicant Income > 2381.5) and (Applicant Income <= 20199.5) and (Loan Term > 420.0) and (Dependents > 0.5)'},\n",
       " {'class': 1,\n",
       "  'rule': '(Applicant Income > 2381.5) and (Applicant Income > 20199.5) and (Loan Amount <= 585000.0) and (Loan Amount <= 195500.0)'},\n",
       " {'class': 0,\n",
       "  'rule': '(Applicant Income > 2381.5) and (Applicant Income > 20199.5) and (Loan Amount <= 585000.0) and (Loan Amount > 195500.0)'},\n",
       " {'class': 1,\n",
       "  'rule': '(Applicant Income > 2381.5) and (Applicant Income > 20199.5) and (Loan Amount > 585000.0)'}]"
      ]
     },
     "execution_count": 17,
     "metadata": {},
     "output_type": "execute_result"
    }
   ],
   "source": [
    "jmlm = JMLM.fromModel(mdl)\n",
    "jmlm.extractRules()"
   ]
  },
  {
   "cell_type": "markdown",
   "metadata": {},
   "source": [
    "#### 2. From JMLM String"
   ]
  },
  {
   "cell_type": "code",
   "execution_count": 18,
   "metadata": {
    "ExecuteTime": {
     "end_time": "2021-04-19T06:05:45.691425Z",
     "start_time": "2021-04-19T06:05:45.678142Z"
    }
   },
   "outputs": [
    {
     "data": {
      "text/plain": [
       "[{'class': 0, 'rule': '(Applicant Income <= 2381.5) and (Education <= 0.5)'},\n",
       " {'class': 1,\n",
       "  'rule': '(Applicant Income <= 2381.5) and (Education > 0.5) and (Gender <= 0.5)'},\n",
       " {'class': 0,\n",
       "  'rule': '(Applicant Income <= 2381.5) and (Education > 0.5) and (Gender > 0.5)'},\n",
       " {'class': 1,\n",
       "  'rule': '(Applicant Income > 2381.5) and (Applicant Income <= 20199.5) and (Loan Term <= 420.0) and (Loan Amount <= 61000.0)'},\n",
       " {'class': 1,\n",
       "  'rule': '(Applicant Income > 2381.5) and (Applicant Income <= 20199.5) and (Loan Term <= 420.0) and (Loan Amount > 61000.0)'},\n",
       " {'class': 0,\n",
       "  'rule': '(Applicant Income > 2381.5) and (Applicant Income <= 20199.5) and (Loan Term > 420.0) and (Dependents <= 0.5)'},\n",
       " {'class': 1,\n",
       "  'rule': '(Applicant Income > 2381.5) and (Applicant Income <= 20199.5) and (Loan Term > 420.0) and (Dependents > 0.5)'},\n",
       " {'class': 1,\n",
       "  'rule': '(Applicant Income > 2381.5) and (Applicant Income > 20199.5) and (Loan Amount <= 585000.0) and (Loan Amount <= 195500.0)'},\n",
       " {'class': 0,\n",
       "  'rule': '(Applicant Income > 2381.5) and (Applicant Income > 20199.5) and (Loan Amount <= 585000.0) and (Loan Amount > 195500.0)'},\n",
       " {'class': 1,\n",
       "  'rule': '(Applicant Income > 2381.5) and (Applicant Income > 20199.5) and (Loan Amount > 585000.0)'}]"
      ]
     },
     "execution_count": 18,
     "metadata": {},
     "output_type": "execute_result"
    }
   ],
   "source": [
    "jmlm_string = mdl.exportJSON()\n",
    "jmlm = JMLM.fromString(jmlm_string)\n",
    "jmlm.extractRules()"
   ]
  },
  {
   "cell_type": "markdown",
   "metadata": {},
   "source": [
    "#### 3. From JMLM File"
   ]
  },
  {
   "cell_type": "code",
   "execution_count": 22,
   "metadata": {
    "ExecuteTime": {
     "end_time": "2021-04-19T06:10:33.816360Z",
     "start_time": "2021-04-19T06:10:33.811439Z"
    }
   },
   "outputs": [
    {
     "data": {
      "text/plain": [
       "[{'class': 0, 'rule': '(Applicant Income <= 2381.5) and (Education <= 0.5)'},\n",
       " {'class': 1,\n",
       "  'rule': '(Applicant Income <= 2381.5) and (Education > 0.5) and (Gender <= 0.5)'},\n",
       " {'class': 0,\n",
       "  'rule': '(Applicant Income <= 2381.5) and (Education > 0.5) and (Gender > 0.5)'},\n",
       " {'class': 1,\n",
       "  'rule': '(Applicant Income > 2381.5) and (Applicant Income <= 20199.5) and (Loan Term <= 420.0) and (Loan Amount <= 61000.0)'},\n",
       " {'class': 1,\n",
       "  'rule': '(Applicant Income > 2381.5) and (Applicant Income <= 20199.5) and (Loan Term <= 420.0) and (Loan Amount > 61000.0)'},\n",
       " {'class': 0,\n",
       "  'rule': '(Applicant Income > 2381.5) and (Applicant Income <= 20199.5) and (Loan Term > 420.0) and (Dependents <= 0.5)'},\n",
       " {'class': 1,\n",
       "  'rule': '(Applicant Income > 2381.5) and (Applicant Income <= 20199.5) and (Loan Term > 420.0) and (Dependents > 0.5)'},\n",
       " {'class': 1,\n",
       "  'rule': '(Applicant Income > 2381.5) and (Applicant Income > 20199.5) and (Loan Amount <= 585000.0) and (Loan Amount <= 195500.0)'},\n",
       " {'class': 0,\n",
       "  'rule': '(Applicant Income > 2381.5) and (Applicant Income > 20199.5) and (Loan Amount <= 585000.0) and (Loan Amount > 195500.0)'},\n",
       " {'class': 1,\n",
       "  'rule': '(Applicant Income > 2381.5) and (Applicant Income > 20199.5) and (Loan Amount > 585000.0)'}]"
      ]
     },
     "execution_count": 22,
     "metadata": {},
     "output_type": "execute_result"
    }
   ],
   "source": [
    "jmlm = JMLM.fromFile(\"tree.json\")\n",
    "jmlm.extractRules()"
   ]
  },
  {
   "cell_type": "markdown",
   "metadata": {
    "ExecuteTime": {
     "end_time": "2021-04-19T05:50:33.433754Z",
     "start_time": "2021-04-19T05:50:33.426703Z"
    }
   },
   "source": [
    "### Rules with Numerical to Categorical Transformation for Categorical Variables"
   ]
  },
  {
   "cell_type": "code",
   "execution_count": 23,
   "metadata": {
    "ExecuteTime": {
     "end_time": "2021-04-19T06:10:35.788743Z",
     "start_time": "2021-04-19T06:10:35.784332Z"
    }
   },
   "outputs": [
    {
     "data": {
      "text/plain": [
       "[{'class': 0,\n",
       "  'rule': \"(Applicant Income <= 2381.5) and (Education == 'Graduate')\"},\n",
       " {'class': 1,\n",
       "  'rule': \"(Applicant Income <= 2381.5) and (Education == 'Not Graduate') and (Gender == 'Female')\"},\n",
       " {'class': 0,\n",
       "  'rule': \"(Applicant Income <= 2381.5) and (Education == 'Not Graduate') and (Gender == 'Male')\"},\n",
       " {'class': 1,\n",
       "  'rule': '(Applicant Income > 2381.5) and (Applicant Income <= 20199.5) and (Loan Term <= 420.0) and (Loan Amount <= 61000.0)'},\n",
       " {'class': 1,\n",
       "  'rule': '(Applicant Income > 2381.5) and (Applicant Income <= 20199.5) and (Loan Term <= 420.0) and (Loan Amount > 61000.0)'},\n",
       " {'class': 0,\n",
       "  'rule': '(Applicant Income > 2381.5) and (Applicant Income <= 20199.5) and (Loan Term > 420.0) and (Dependents <= 0.5)'},\n",
       " {'class': 1,\n",
       "  'rule': '(Applicant Income > 2381.5) and (Applicant Income <= 20199.5) and (Loan Term > 420.0) and (Dependents > 0.5)'},\n",
       " {'class': 1,\n",
       "  'rule': '(Applicant Income > 2381.5) and (Applicant Income > 20199.5) and (Loan Amount <= 585000.0) and (Loan Amount <= 195500.0)'},\n",
       " {'class': 0,\n",
       "  'rule': '(Applicant Income > 2381.5) and (Applicant Income > 20199.5) and (Loan Amount <= 585000.0) and (Loan Amount > 195500.0)'},\n",
       " {'class': 1,\n",
       "  'rule': '(Applicant Income > 2381.5) and (Applicant Income > 20199.5) and (Loan Amount > 585000.0)'}]"
      ]
     },
     "execution_count": 23,
     "metadata": {},
     "output_type": "execute_result"
    }
   ],
   "source": [
    "jmlm.extractRules(numericalToCategorical = True)"
   ]
  },
  {
   "cell_type": "code",
   "execution_count": null,
   "metadata": {},
   "outputs": [],
   "source": []
  }
 ],
 "metadata": {
  "kernelspec": {
   "display_name": "Python 3",
   "language": "python",
   "name": "python3"
  },
  "language_info": {
   "codemirror_mode": {
    "name": "ipython",
    "version": 3
   },
   "file_extension": ".py",
   "mimetype": "text/x-python",
   "name": "python",
   "nbconvert_exporter": "python",
   "pygments_lexer": "ipython3",
   "version": "3.9.1"
  },
  "toc": {
   "base_numbering": 1,
   "nav_menu": {},
   "number_sections": true,
   "sideBar": true,
   "skip_h1_title": false,
   "title_cell": "Table of Contents",
   "title_sidebar": "Contents",
   "toc_cell": false,
   "toc_position": {},
   "toc_section_display": true,
   "toc_window_display": false
  }
 },
 "nbformat": 4,
 "nbformat_minor": 2
}
