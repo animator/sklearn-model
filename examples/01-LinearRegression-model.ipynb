{
 "cells": [
  {
   "cell_type": "code",
   "execution_count": 3,
   "metadata": {
    "ExecuteTime": {
     "end_time": "2021-02-28T23:00:26.732390Z",
     "start_time": "2021-02-28T23:00:26.729486Z"
    }
   },
   "outputs": [],
   "source": [
    "import pandas as pd\n",
    "from sklearn.linear_model import LinearRegression\n",
    "from sklearn.preprocessing import StandardScaler\n",
    "from sklearn.model_selection import train_test_split\n",
    "\n",
    "# Exports scikit-learn model to json\n",
    "from sklearn_model.export import Model"
   ]
  },
  {
   "cell_type": "code",
   "execution_count": 6,
   "metadata": {
    "ExecuteTime": {
     "end_time": "2021-02-28T23:02:06.143982Z",
     "start_time": "2021-02-28T23:02:06.129806Z"
    }
   },
   "outputs": [],
   "source": [
    "# Load Dataset\n",
    "df = pd.read_csv(\"assets/regr.csv\")"
   ]
  },
  {
   "cell_type": "code",
   "execution_count": 7,
   "metadata": {
    "ExecuteTime": {
     "end_time": "2021-02-28T23:02:08.372368Z",
     "start_time": "2021-02-28T23:02:08.335413Z"
    }
   },
   "outputs": [
    {
     "data": {
      "text/html": [
       "<div>\n",
       "<style scoped>\n",
       "    .dataframe tbody tr th:only-of-type {\n",
       "        vertical-align: middle;\n",
       "    }\n",
       "\n",
       "    .dataframe tbody tr th {\n",
       "        vertical-align: top;\n",
       "    }\n",
       "\n",
       "    .dataframe thead th {\n",
       "        text-align: right;\n",
       "    }\n",
       "</style>\n",
       "<table border=\"1\" class=\"dataframe\">\n",
       "  <thead>\n",
       "    <tr style=\"text-align: right;\">\n",
       "      <th></th>\n",
       "      <th>X1 house age</th>\n",
       "      <th>X2 distance to the nearest MRT station</th>\n",
       "      <th>X3 number of convenience stores</th>\n",
       "      <th>X4 latitude</th>\n",
       "      <th>X5 longitude</th>\n",
       "      <th>Y house price of unit area</th>\n",
       "    </tr>\n",
       "  </thead>\n",
       "  <tbody>\n",
       "    <tr>\n",
       "      <th>0</th>\n",
       "      <td>1.255628</td>\n",
       "      <td>-0.792495</td>\n",
       "      <td>2.007407</td>\n",
       "      <td>1.125430</td>\n",
       "      <td>0.448762</td>\n",
       "      <td>-0.005901</td>\n",
       "    </tr>\n",
       "    <tr>\n",
       "      <th>1</th>\n",
       "      <td>0.157086</td>\n",
       "      <td>-0.616612</td>\n",
       "      <td>1.667503</td>\n",
       "      <td>0.912444</td>\n",
       "      <td>0.401139</td>\n",
       "      <td>0.310507</td>\n",
       "    </tr>\n",
       "    <tr>\n",
       "      <th>2</th>\n",
       "      <td>-0.387791</td>\n",
       "      <td>-0.414015</td>\n",
       "      <td>0.307885</td>\n",
       "      <td>1.486860</td>\n",
       "      <td>0.688183</td>\n",
       "      <td>0.685782</td>\n",
       "    </tr>\n",
       "    <tr>\n",
       "      <th>3</th>\n",
       "      <td>-0.387791</td>\n",
       "      <td>-0.414015</td>\n",
       "      <td>0.307885</td>\n",
       "      <td>1.486860</td>\n",
       "      <td>0.688183</td>\n",
       "      <td>1.237656</td>\n",
       "    </tr>\n",
       "    <tr>\n",
       "      <th>4</th>\n",
       "      <td>-1.117223</td>\n",
       "      <td>-0.549997</td>\n",
       "      <td>0.307885</td>\n",
       "      <td>0.834188</td>\n",
       "      <td>0.592937</td>\n",
       "      <td>0.376732</td>\n",
       "    </tr>\n",
       "  </tbody>\n",
       "</table>\n",
       "</div>"
      ],
      "text/plain": [
       "   X1 house age  X2 distance to the nearest MRT station  \\\n",
       "0      1.255628                               -0.792495   \n",
       "1      0.157086                               -0.616612   \n",
       "2     -0.387791                               -0.414015   \n",
       "3     -0.387791                               -0.414015   \n",
       "4     -1.117223                               -0.549997   \n",
       "\n",
       "   X3 number of convenience stores  X4 latitude  X5 longitude  \\\n",
       "0                         2.007407     1.125430      0.448762   \n",
       "1                         1.667503     0.912444      0.401139   \n",
       "2                         0.307885     1.486860      0.688183   \n",
       "3                         0.307885     1.486860      0.688183   \n",
       "4                         0.307885     0.834188      0.592937   \n",
       "\n",
       "   Y house price of unit area  \n",
       "0                   -0.005901  \n",
       "1                    0.310507  \n",
       "2                    0.685782  \n",
       "3                    1.237656  \n",
       "4                    0.376732  "
      ]
     },
     "execution_count": 7,
     "metadata": {},
     "output_type": "execute_result"
    }
   ],
   "source": [
    "scaler = StandardScaler()\n",
    "df_scaled = pd.DataFrame(scaler.fit_transform(df),\n",
    "                     columns = list(df.columns))\n",
    "df_scaled.head()"
   ]
  },
  {
   "cell_type": "code",
   "execution_count": 9,
   "metadata": {
    "ExecuteTime": {
     "end_time": "2021-02-28T23:03:41.451305Z",
     "start_time": "2021-02-28T23:03:41.441237Z"
    }
   },
   "outputs": [
    {
     "data": {
      "text/html": [
       "<div>\n",
       "<style scoped>\n",
       "    .dataframe tbody tr th:only-of-type {\n",
       "        vertical-align: middle;\n",
       "    }\n",
       "\n",
       "    .dataframe tbody tr th {\n",
       "        vertical-align: top;\n",
       "    }\n",
       "\n",
       "    .dataframe thead th {\n",
       "        text-align: right;\n",
       "    }\n",
       "</style>\n",
       "<table border=\"1\" class=\"dataframe\">\n",
       "  <thead>\n",
       "    <tr style=\"text-align: right;\">\n",
       "      <th></th>\n",
       "      <th>X1 house age</th>\n",
       "      <th>X2 distance to the nearest MRT station</th>\n",
       "      <th>X3 number of convenience stores</th>\n",
       "      <th>X4 latitude</th>\n",
       "      <th>X5 longitude</th>\n",
       "    </tr>\n",
       "  </thead>\n",
       "  <tbody>\n",
       "    <tr>\n",
       "      <th>0</th>\n",
       "      <td>1.255628</td>\n",
       "      <td>-0.792495</td>\n",
       "      <td>2.007407</td>\n",
       "      <td>1.125430</td>\n",
       "      <td>0.448762</td>\n",
       "    </tr>\n",
       "    <tr>\n",
       "      <th>1</th>\n",
       "      <td>0.157086</td>\n",
       "      <td>-0.616612</td>\n",
       "      <td>1.667503</td>\n",
       "      <td>0.912444</td>\n",
       "      <td>0.401139</td>\n",
       "    </tr>\n",
       "    <tr>\n",
       "      <th>2</th>\n",
       "      <td>-0.387791</td>\n",
       "      <td>-0.414015</td>\n",
       "      <td>0.307885</td>\n",
       "      <td>1.486860</td>\n",
       "      <td>0.688183</td>\n",
       "    </tr>\n",
       "    <tr>\n",
       "      <th>3</th>\n",
       "      <td>-0.387791</td>\n",
       "      <td>-0.414015</td>\n",
       "      <td>0.307885</td>\n",
       "      <td>1.486860</td>\n",
       "      <td>0.688183</td>\n",
       "    </tr>\n",
       "    <tr>\n",
       "      <th>4</th>\n",
       "      <td>-1.117223</td>\n",
       "      <td>-0.549997</td>\n",
       "      <td>0.307885</td>\n",
       "      <td>0.834188</td>\n",
       "      <td>0.592937</td>\n",
       "    </tr>\n",
       "  </tbody>\n",
       "</table>\n",
       "</div>"
      ],
      "text/plain": [
       "   X1 house age  X2 distance to the nearest MRT station  \\\n",
       "0      1.255628                               -0.792495   \n",
       "1      0.157086                               -0.616612   \n",
       "2     -0.387791                               -0.414015   \n",
       "3     -0.387791                               -0.414015   \n",
       "4     -1.117223                               -0.549997   \n",
       "\n",
       "   X3 number of convenience stores  X4 latitude  X5 longitude  \n",
       "0                         2.007407     1.125430      0.448762  \n",
       "1                         1.667503     0.912444      0.401139  \n",
       "2                         0.307885     1.486860      0.688183  \n",
       "3                         0.307885     1.486860      0.688183  \n",
       "4                         0.307885     0.834188      0.592937  "
      ]
     },
     "execution_count": 9,
     "metadata": {},
     "output_type": "execute_result"
    }
   ],
   "source": [
    "# The independent variables\n",
    "dfX = df_scaled.drop(\"Y house price of unit area\", axis =1)\n",
    "dfX.head()"
   ]
  },
  {
   "cell_type": "code",
   "execution_count": 10,
   "metadata": {
    "ExecuteTime": {
     "end_time": "2021-02-28T23:03:44.432666Z",
     "start_time": "2021-02-28T23:03:44.425707Z"
    }
   },
   "outputs": [
    {
     "data": {
      "text/html": [
       "<div>\n",
       "<style scoped>\n",
       "    .dataframe tbody tr th:only-of-type {\n",
       "        vertical-align: middle;\n",
       "    }\n",
       "\n",
       "    .dataframe tbody tr th {\n",
       "        vertical-align: top;\n",
       "    }\n",
       "\n",
       "    .dataframe thead th {\n",
       "        text-align: right;\n",
       "    }\n",
       "</style>\n",
       "<table border=\"1\" class=\"dataframe\">\n",
       "  <thead>\n",
       "    <tr style=\"text-align: right;\">\n",
       "      <th></th>\n",
       "      <th>Y house price of unit area</th>\n",
       "    </tr>\n",
       "  </thead>\n",
       "  <tbody>\n",
       "    <tr>\n",
       "      <th>0</th>\n",
       "      <td>-0.005901</td>\n",
       "    </tr>\n",
       "    <tr>\n",
       "      <th>1</th>\n",
       "      <td>0.310507</td>\n",
       "    </tr>\n",
       "    <tr>\n",
       "      <th>2</th>\n",
       "      <td>0.685782</td>\n",
       "    </tr>\n",
       "    <tr>\n",
       "      <th>3</th>\n",
       "      <td>1.237656</td>\n",
       "    </tr>\n",
       "    <tr>\n",
       "      <th>4</th>\n",
       "      <td>0.376732</td>\n",
       "    </tr>\n",
       "  </tbody>\n",
       "</table>\n",
       "</div>"
      ],
      "text/plain": [
       "   Y house price of unit area\n",
       "0                   -0.005901\n",
       "1                    0.310507\n",
       "2                    0.685782\n",
       "3                    1.237656\n",
       "4                    0.376732"
      ]
     },
     "execution_count": 10,
     "metadata": {},
     "output_type": "execute_result"
    }
   ],
   "source": [
    "# The target\n",
    "dfY = df_scaled[[\"Y house price of unit area\"]]\n",
    "dfY.head()"
   ]
  },
  {
   "cell_type": "code",
   "execution_count": 11,
   "metadata": {
    "ExecuteTime": {
     "end_time": "2021-02-28T23:04:00.083431Z",
     "start_time": "2021-02-28T23:04:00.080711Z"
    }
   },
   "outputs": [],
   "source": [
    "# Get numpy arrays\n",
    "X, y = dfX.values , dfY.values"
   ]
  },
  {
   "cell_type": "code",
   "execution_count": 12,
   "metadata": {
    "ExecuteTime": {
     "end_time": "2021-02-28T23:04:11.586538Z",
     "start_time": "2021-02-28T23:04:11.580410Z"
    }
   },
   "outputs": [],
   "source": [
    "# Perform train test split\n",
    "X_train, X_test, y_train, y_test = train_test_split (X,\n",
    "                                                    y,\n",
    "                                                    test_size=0.2,\n",
    "                                                    random_state = 1)"
   ]
  },
  {
   "cell_type": "code",
   "execution_count": 13,
   "metadata": {
    "ExecuteTime": {
     "end_time": "2021-02-28T23:04:43.979960Z",
     "start_time": "2021-02-28T23:04:43.977432Z"
    }
   },
   "outputs": [],
   "source": [
    "# Fetch Y as a 1D array\n",
    "y_train = y_train.flatten()\n",
    "y_test = y_test.flatten()"
   ]
  },
  {
   "cell_type": "code",
   "execution_count": 15,
   "metadata": {
    "ExecuteTime": {
     "end_time": "2021-02-28T23:05:03.005347Z",
     "start_time": "2021-02-28T23:05:03.001971Z"
    }
   },
   "outputs": [],
   "source": [
    "# Fit Linear Regression Model\n",
    "model_reg = LinearRegression().fit(X_train,y_train)"
   ]
  },
  {
   "cell_type": "code",
   "execution_count": 16,
   "metadata": {
    "ExecuteTime": {
     "end_time": "2021-02-28T23:05:06.920141Z",
     "start_time": "2021-02-28T23:05:06.913785Z"
    }
   },
   "outputs": [
    {
     "data": {
      "text/plain": [
       "0.5372179466923446"
      ]
     },
     "execution_count": 16,
     "metadata": {},
     "output_type": "execute_result"
    }
   ],
   "source": [
    "model_reg.score(X_train,y_train)"
   ]
  },
  {
   "cell_type": "code",
   "execution_count": 18,
   "metadata": {
    "ExecuteTime": {
     "end_time": "2021-02-28T23:05:52.147338Z",
     "start_time": "2021-02-28T23:05:52.143025Z"
    }
   },
   "outputs": [
    {
     "data": {
      "text/plain": [
       "0.7007314553053123"
      ]
     },
     "execution_count": 18,
     "metadata": {},
     "output_type": "execute_result"
    }
   ],
   "source": [
    "# Score on test dataset R-sqaured Goodness of fit\n",
    "model_reg.score(X_test,y_test)"
   ]
  },
  {
   "cell_type": "code",
   "execution_count": 19,
   "metadata": {
    "ExecuteTime": {
     "end_time": "2021-02-28T23:07:46.506315Z",
     "start_time": "2021-02-28T23:07:46.503223Z"
    }
   },
   "outputs": [],
   "source": [
    "# Start the process of model export\n",
    "mdl = Model()\n",
    "\n",
    "# Add the details of input and output fields\n",
    "mdl.add_fields(dfX, dfY)\n",
    "\n",
    "# Since StandardScaler is used add the transformer\n",
    "mdl.add_transformer(scaler, list(df_scaled.columns))\n",
    "\n",
    "# Add the model\n",
    "mdl.add_model(model_reg)"
   ]
  },
  {
   "cell_type": "code",
   "execution_count": 21,
   "metadata": {
    "ExecuteTime": {
     "end_time": "2021-02-28T23:08:08.901597Z",
     "start_time": "2021-02-28T23:08:08.894878Z"
    }
   },
   "outputs": [
    {
     "name": "stdout",
     "output_type": "stream",
     "text": [
      "{\n",
      "    \"input\": {\n",
      "        \"X1 house age\": {\n",
      "            \"type\": \"float\"\n",
      "        },\n",
      "        \"X2 distance to the nearest MRT station\": {\n",
      "            \"type\": \"float\"\n",
      "        },\n",
      "        \"X3 number of convenience stores\": {\n",
      "            \"type\": \"float\"\n",
      "        },\n",
      "        \"X4 latitude\": {\n",
      "            \"type\": \"float\"\n",
      "        },\n",
      "        \"X5 longitude\": {\n",
      "            \"type\": \"float\"\n",
      "        }\n",
      "    },\n",
      "    \"output\": {\n",
      "        \"Y house price of unit area\": {\n",
      "            \"type\": \"float\"\n",
      "        }\n",
      "    },\n",
      "    \"transformer\": {\n",
      "        \"type\": \"Standard\",\n",
      "        \"scale_fields\": {\n",
      "            \"X1 house age\": {\n",
      "                \"mean\": 17.71256038647343,\n",
      "                \"stddev\": 11.378717175302857\n",
      "            },\n",
      "            \"X2 distance to the nearest MRT station\": {\n",
      "                \"mean\": 1083.8856889130436,\n",
      "                \"stddev\": 1260.5843868803893\n",
      "            },\n",
      "            \"X3 number of convenience stores\": {\n",
      "                \"mean\": 4.094202898550725,\n",
      "                \"stddev\": 2.94200221305731\n",
      "            },\n",
      "            \"X4 latitude\": {\n",
      "                \"mean\": 24.969030072463767,\n",
      "                \"stddev\": 0.012395199368548038\n",
      "            },\n",
      "            \"X5 longitude\": {\n",
      "                \"mean\": 121.53336108695655,\n",
      "                \"stddev\": 0.015328636553097923\n",
      "            },\n",
      "            \"Y house price of unit area\": {\n",
      "                \"mean\": 37.980193236714975,\n",
      "                \"stddev\": 13.590044806293161\n",
      "            }\n",
      "        }\n",
      "    },\n",
      "    \"model\": {\n",
      "        \"type\": \"LinearRegression\",\n",
      "        \"scoring_params\": {\n",
      "            \"coefficients\": {\n",
      "                \"X1 house age\": -0.20884873246682123,\n",
      "                \"X2 distance to the nearest MRT station\": -0.43647373548273366,\n",
      "                \"X3 number of convenience stores\": 0.24137141607851936,\n",
      "                \"X4 latitude\": 0.2145464231393848,\n",
      "                \"X5 longitude\": -0.03920053208130464\n",
      "            },\n",
      "            \"intercept\": 0.030399266888491788\n",
      "        }\n",
      "    }\n",
      "}\n"
     ]
    }
   ],
   "source": [
    "# View the exported model\n",
    "print(mdl.exportJSON())"
   ]
  },
  {
   "cell_type": "code",
   "execution_count": 22,
   "metadata": {
    "ExecuteTime": {
     "end_time": "2021-02-28T23:08:51.680354Z",
     "start_time": "2021-02-28T23:08:51.673990Z"
    }
   },
   "outputs": [],
   "source": [
    "# Save the model in a file\n",
    "mdl.exportJSON('regr.json')"
   ]
  },
  {
   "cell_type": "code",
   "execution_count": null,
   "metadata": {},
   "outputs": [],
   "source": []
  }
 ],
 "metadata": {
  "kernelspec": {
   "display_name": "Python 3",
   "language": "python",
   "name": "python3"
  },
  "language_info": {
   "codemirror_mode": {
    "name": "ipython",
    "version": 3
   },
   "file_extension": ".py",
   "mimetype": "text/x-python",
   "name": "python",
   "nbconvert_exporter": "python",
   "pygments_lexer": "ipython3",
   "version": "3.9.1"
  },
  "toc": {
   "base_numbering": 1,
   "nav_menu": {},
   "number_sections": true,
   "sideBar": true,
   "skip_h1_title": false,
   "title_cell": "Table of Contents",
   "title_sidebar": "Contents",
   "toc_cell": false,
   "toc_position": {},
   "toc_section_display": true,
   "toc_window_display": false
  }
 },
 "nbformat": 4,
 "nbformat_minor": 2
}
