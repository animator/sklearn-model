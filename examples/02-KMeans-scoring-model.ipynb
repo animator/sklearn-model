{
 "cells": [
  {
   "cell_type": "code",
   "execution_count": 11,
   "metadata": {
    "ExecuteTime": {
     "end_time": "2021-02-28T23:15:16.436375Z",
     "start_time": "2021-02-28T23:15:16.433623Z"
    }
   },
   "outputs": [],
   "source": [
    "from sklearn import datasets\n",
    "from sklearn.preprocessing import MinMaxScaler\n",
    "from sklearn.cluster import KMeans\n",
    "import pandas as pd\n",
    "\n",
    "from sklearn_model.export import Model"
   ]
  },
  {
   "cell_type": "code",
   "execution_count": 2,
   "metadata": {
    "ExecuteTime": {
     "end_time": "2021-02-28T23:10:09.741389Z",
     "start_time": "2021-02-28T23:10:09.735001Z"
    }
   },
   "outputs": [],
   "source": [
    "# Load the iris dataset\n",
    "iris = datasets.load_iris()\n",
    "X = iris.data\n",
    "y = iris.target\n",
    "target_names = iris.target_names\n",
    "feature_names = iris.feature_names"
   ]
  },
  {
   "cell_type": "code",
   "execution_count": 3,
   "metadata": {
    "ExecuteTime": {
     "end_time": "2021-02-28T23:10:56.174263Z",
     "start_time": "2021-02-28T23:10:56.152388Z"
    }
   },
   "outputs": [
    {
     "data": {
      "text/html": [
       "<div>\n",
       "<style scoped>\n",
       "    .dataframe tbody tr th:only-of-type {\n",
       "        vertical-align: middle;\n",
       "    }\n",
       "\n",
       "    .dataframe tbody tr th {\n",
       "        vertical-align: top;\n",
       "    }\n",
       "\n",
       "    .dataframe thead th {\n",
       "        text-align: right;\n",
       "    }\n",
       "</style>\n",
       "<table border=\"1\" class=\"dataframe\">\n",
       "  <thead>\n",
       "    <tr style=\"text-align: right;\">\n",
       "      <th></th>\n",
       "      <th>sepal length (cm)</th>\n",
       "      <th>sepal width (cm)</th>\n",
       "      <th>petal length (cm)</th>\n",
       "      <th>petal width (cm)</th>\n",
       "    </tr>\n",
       "  </thead>\n",
       "  <tbody>\n",
       "    <tr>\n",
       "      <th>0</th>\n",
       "      <td>5.1</td>\n",
       "      <td>3.5</td>\n",
       "      <td>1.4</td>\n",
       "      <td>0.2</td>\n",
       "    </tr>\n",
       "    <tr>\n",
       "      <th>1</th>\n",
       "      <td>4.9</td>\n",
       "      <td>3.0</td>\n",
       "      <td>1.4</td>\n",
       "      <td>0.2</td>\n",
       "    </tr>\n",
       "    <tr>\n",
       "      <th>2</th>\n",
       "      <td>4.7</td>\n",
       "      <td>3.2</td>\n",
       "      <td>1.3</td>\n",
       "      <td>0.2</td>\n",
       "    </tr>\n",
       "    <tr>\n",
       "      <th>3</th>\n",
       "      <td>4.6</td>\n",
       "      <td>3.1</td>\n",
       "      <td>1.5</td>\n",
       "      <td>0.2</td>\n",
       "    </tr>\n",
       "    <tr>\n",
       "      <th>4</th>\n",
       "      <td>5.0</td>\n",
       "      <td>3.6</td>\n",
       "      <td>1.4</td>\n",
       "      <td>0.2</td>\n",
       "    </tr>\n",
       "    <tr>\n",
       "      <th>...</th>\n",
       "      <td>...</td>\n",
       "      <td>...</td>\n",
       "      <td>...</td>\n",
       "      <td>...</td>\n",
       "    </tr>\n",
       "    <tr>\n",
       "      <th>145</th>\n",
       "      <td>6.7</td>\n",
       "      <td>3.0</td>\n",
       "      <td>5.2</td>\n",
       "      <td>2.3</td>\n",
       "    </tr>\n",
       "    <tr>\n",
       "      <th>146</th>\n",
       "      <td>6.3</td>\n",
       "      <td>2.5</td>\n",
       "      <td>5.0</td>\n",
       "      <td>1.9</td>\n",
       "    </tr>\n",
       "    <tr>\n",
       "      <th>147</th>\n",
       "      <td>6.5</td>\n",
       "      <td>3.0</td>\n",
       "      <td>5.2</td>\n",
       "      <td>2.0</td>\n",
       "    </tr>\n",
       "    <tr>\n",
       "      <th>148</th>\n",
       "      <td>6.2</td>\n",
       "      <td>3.4</td>\n",
       "      <td>5.4</td>\n",
       "      <td>2.3</td>\n",
       "    </tr>\n",
       "    <tr>\n",
       "      <th>149</th>\n",
       "      <td>5.9</td>\n",
       "      <td>3.0</td>\n",
       "      <td>5.1</td>\n",
       "      <td>1.8</td>\n",
       "    </tr>\n",
       "  </tbody>\n",
       "</table>\n",
       "<p>150 rows × 4 columns</p>\n",
       "</div>"
      ],
      "text/plain": [
       "     sepal length (cm)  sepal width (cm)  petal length (cm)  petal width (cm)\n",
       "0                  5.1               3.5                1.4               0.2\n",
       "1                  4.9               3.0                1.4               0.2\n",
       "2                  4.7               3.2                1.3               0.2\n",
       "3                  4.6               3.1                1.5               0.2\n",
       "4                  5.0               3.6                1.4               0.2\n",
       "..                 ...               ...                ...               ...\n",
       "145                6.7               3.0                5.2               2.3\n",
       "146                6.3               2.5                5.0               1.9\n",
       "147                6.5               3.0                5.2               2.0\n",
       "148                6.2               3.4                5.4               2.3\n",
       "149                5.9               3.0                5.1               1.8\n",
       "\n",
       "[150 rows x 4 columns]"
      ]
     },
     "execution_count": 3,
     "metadata": {},
     "output_type": "execute_result"
    }
   ],
   "source": [
    "# Since it is unsupervised learning Y is not needed\n",
    "df = pd.DataFrame(X, columns = feature_names)\n",
    "df"
   ]
  },
  {
   "cell_type": "code",
   "execution_count": 4,
   "metadata": {
    "ExecuteTime": {
     "end_time": "2021-02-28T23:11:16.657609Z",
     "start_time": "2021-02-28T23:11:16.651013Z"
    }
   },
   "outputs": [],
   "source": [
    "# Perform MinMax scaling\n",
    "scaler = MinMaxScaler()\n",
    "X = scaler.fit_transform(df)"
   ]
  },
  {
   "cell_type": "code",
   "execution_count": 14,
   "metadata": {
    "ExecuteTime": {
     "end_time": "2021-02-28T23:16:12.399736Z",
     "start_time": "2021-02-28T23:16:12.370442Z"
    }
   },
   "outputs": [
    {
     "data": {
      "text/plain": [
       "KMeans(n_clusters=3, random_state=1)"
      ]
     },
     "execution_count": 14,
     "metadata": {},
     "output_type": "execute_result"
    }
   ],
   "source": [
    "# Create and fit the model\n",
    "model = KMeans(n_clusters=3, random_state=1)\n",
    "model.fit(X)"
   ]
  },
  {
   "cell_type": "code",
   "execution_count": 15,
   "metadata": {
    "ExecuteTime": {
     "end_time": "2021-02-28T23:16:13.037920Z",
     "start_time": "2021-02-28T23:16:13.034038Z"
    }
   },
   "outputs": [
    {
     "data": {
      "text/plain": [
       "array([1, 1, 1, 1, 1, 1, 1, 1, 1, 1, 1, 1, 1, 1, 1, 1, 1, 1, 1, 1, 1, 1,\n",
       "       1, 1, 1, 1, 1, 1, 1, 1, 1, 1, 1, 1, 1, 1, 1, 1, 1, 1, 1, 1, 1, 1,\n",
       "       1, 1, 1, 1, 1, 1, 2, 0, 2, 0, 0, 0, 0, 0, 0, 0, 0, 0, 0, 0, 0, 0,\n",
       "       0, 0, 0, 0, 0, 0, 0, 0, 0, 0, 0, 2, 0, 0, 0, 0, 0, 0, 0, 0, 0, 0,\n",
       "       0, 0, 0, 0, 0, 0, 0, 0, 0, 0, 0, 0, 2, 0, 2, 2, 2, 2, 0, 2, 2, 2,\n",
       "       2, 2, 2, 0, 2, 2, 2, 2, 2, 0, 2, 0, 2, 0, 2, 2, 0, 0, 2, 2, 2, 2,\n",
       "       2, 0, 0, 2, 2, 2, 0, 2, 2, 2, 0, 2, 2, 2, 0, 2, 2, 0], dtype=int32)"
      ]
     },
     "execution_count": 15,
     "metadata": {},
     "output_type": "execute_result"
    }
   ],
   "source": [
    "model.labels_"
   ]
  },
  {
   "cell_type": "code",
   "execution_count": 18,
   "metadata": {
    "ExecuteTime": {
     "end_time": "2021-02-28T23:19:54.602137Z",
     "start_time": "2021-02-28T23:19:54.598582Z"
    }
   },
   "outputs": [],
   "source": [
    "mdl = Model()\n",
    "mdl.add_fields(df)\n",
    "\n",
    "# Since it is unsupervised learning the cluster ids are further studied and assigned labels\n",
    "# In this case the three labels are the species \n",
    "# 'versicolor' (cluster id 0), 'setosa' (cluster id 1) and 'virginica' (cluster id 2) \n",
    "# which were determined after further study.\n",
    "# These labels are now assigned using add_output_field method\n",
    "mdl.add_output_field(\"species\", \"category\", values = ['versicolor', 'setosa', 'virginica' ])\n",
    "\n",
    "# MinMax transformer is added\n",
    "mdl.add_transformer(scaler, list(df.columns))\n",
    "\n",
    "# Kmeans model is added\n",
    "mdl.add_model(model)"
   ]
  },
  {
   "cell_type": "code",
   "execution_count": 19,
   "metadata": {
    "ExecuteTime": {
     "end_time": "2021-02-28T23:19:57.756843Z",
     "start_time": "2021-02-28T23:19:57.751096Z"
    }
   },
   "outputs": [
    {
     "name": "stdout",
     "output_type": "stream",
     "text": [
      "{\n",
      "    \"input\": {\n",
      "        \"sepal length (cm)\": {\n",
      "            \"type\": \"float\"\n",
      "        },\n",
      "        \"sepal width (cm)\": {\n",
      "            \"type\": \"float\"\n",
      "        },\n",
      "        \"petal length (cm)\": {\n",
      "            \"type\": \"float\"\n",
      "        },\n",
      "        \"petal width (cm)\": {\n",
      "            \"type\": \"float\"\n",
      "        }\n",
      "    },\n",
      "    \"output\": {\n",
      "        \"species\": {\n",
      "            \"type\": \"category\",\n",
      "            \"values\": [\n",
      "                \"versicolor\",\n",
      "                \"setosa\",\n",
      "                \"virginica\"\n",
      "            ]\n",
      "        }\n",
      "    },\n",
      "    \"transformer\": {\n",
      "        \"type\": \"MinMax\",\n",
      "        \"scale_fields\": {\n",
      "            \"sepal length (cm)\": {\n",
      "                \"scale\": 0.27777777777777773,\n",
      "                \"min\": -1.1944444444444442\n",
      "            },\n",
      "            \"sepal width (cm)\": {\n",
      "                \"scale\": 0.41666666666666663,\n",
      "                \"min\": -0.8333333333333333\n",
      "            },\n",
      "            \"petal length (cm)\": {\n",
      "                \"scale\": 0.1694915254237288,\n",
      "                \"min\": -0.1694915254237288\n",
      "            },\n",
      "            \"petal width (cm)\": {\n",
      "                \"scale\": 0.4166666666666667,\n",
      "                \"min\": -0.04166666666666667\n",
      "            }\n",
      "        }\n",
      "    },\n",
      "    \"model\": {\n",
      "        \"type\": \"KMeans\",\n",
      "        \"scoring_params\": {\n",
      "            \"metric\": \"euclidean\",\n",
      "            \"centers\": [\n",
      "                {\n",
      "                    \"sepal length (cm)\": 0.4412568306010929,\n",
      "                    \"sepal width (cm)\": 0.3073770491803278,\n",
      "                    \"petal length (cm)\": 0.5757154765212559,\n",
      "                    \"petal width (cm)\": 0.5491803278688525\n",
      "                },\n",
      "                {\n",
      "                    \"sepal length (cm)\": 0.1961111111111111,\n",
      "                    \"sepal width (cm)\": 0.595,\n",
      "                    \"petal length (cm)\": 0.0783050847457627,\n",
      "                    \"petal width (cm)\": 0.06083333333333335\n",
      "                },\n",
      "                {\n",
      "                    \"sepal length (cm)\": 0.7072649572649572,\n",
      "                    \"sepal width (cm)\": 0.4508547008547008,\n",
      "                    \"petal length (cm)\": 0.7970447631464579,\n",
      "                    \"petal width (cm)\": 0.8247863247863247\n",
      "                }\n",
      "            ]\n",
      "        }\n",
      "    }\n",
      "}\n"
     ]
    }
   ],
   "source": [
    "# View the exported model\n",
    "print(mdl.exportJSON())"
   ]
  },
  {
   "cell_type": "code",
   "execution_count": 20,
   "metadata": {
    "ExecuteTime": {
     "end_time": "2021-02-28T23:20:28.943886Z",
     "start_time": "2021-02-28T23:20:28.938481Z"
    }
   },
   "outputs": [],
   "source": [
    "# Save the model in a file\n",
    "mdl.exportJSON('kmeans.json')"
   ]
  },
  {
   "cell_type": "code",
   "execution_count": null,
   "metadata": {},
   "outputs": [],
   "source": []
  }
 ],
 "metadata": {
  "kernelspec": {
   "display_name": "Python 3",
   "language": "python",
   "name": "python3"
  },
  "language_info": {
   "codemirror_mode": {
    "name": "ipython",
    "version": 3
   },
   "file_extension": ".py",
   "mimetype": "text/x-python",
   "name": "python",
   "nbconvert_exporter": "python",
   "pygments_lexer": "ipython3",
   "version": "3.9.1"
  }
 },
 "nbformat": 4,
 "nbformat_minor": 4
}
